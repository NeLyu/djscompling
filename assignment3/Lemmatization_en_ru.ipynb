{
 "cells": [
  {
   "cell_type": "code",
   "execution_count": 10,
   "metadata": {
    "collapsed": true
   },
   "outputs": [],
   "source": [
    "from nltk import word_tokenize, pos_tag\n",
    "from nltk.stem import WordNetLemmatizer\n",
    "import pymorphy2 as pm\n",
    "\n",
    "def lemmatize_nltk(fname, text):\n",
    "    \"\"\"\n",
    "    fname: название файла, куда будет записан результат лемматизации\n",
    "    text: текст для анализа\n",
    "    \"\"\"\n",
    "    tokens = word_tokenize(text)\n",
    "    tagged = pos_tag(tokens)\n",
    "    wl = WordNetLemmatizer()\n",
    "    \n",
    "    with open(fname, 'w', encoding='utf-8') as outfile:\n",
    "        for i in range(len(tagged)):\n",
    "            if tagged[i][1].startswith('N'):\n",
    "                outfile.write(wl.lemmatize(tagged[i][0], pos='n') + ' ')\n",
    "            elif tagged[i][1].startswith('V') or tagged[i][1].startswith('M'):\n",
    "                outfile.write(wl.lemmatize(tagged[i][0], pos='v') + ' ')\n",
    "            else:\n",
    "                outfile.write(tagged[i][0] + ' ')\n",
    "\n",
    "def lemmatize_pm(fname, text):\n",
    "    \"\"\"\n",
    "    fname: название файла, куда будет записан результат лемматизации\n",
    "    text: текст для анализа\n",
    "    \"\"\"\n",
    "    tokens = word_tokenize(text)\n",
    "    morph = pm.MorphAnalyzer()\n",
    "\n",
    "    with open(fname, 'w', encoding='utf-8') as outfile:\n",
    "        for token in tokens:\n",
    "            parsed = morph.parse(token)\n",
    "            outfile.write(parsed[0].normal_form + ' ')"
   ]
  },
  {
   "cell_type": "code",
   "execution_count": 12,
   "metadata": {
    "collapsed": true
   },
   "outputs": [],
   "source": [
    "lemmatize_nltk('lemmas_nltk.txt', \"I like to eat apples and bananas.\")\n",
    "lemmatize_pm('lemmas_pm.txt', \"Мне нравится есть яблоки и бананы.\")"
   ]
  },
  {
   "cell_type": "code",
   "execution_count": null,
   "metadata": {
    "collapsed": true
   },
   "outputs": [],
   "source": []
  }
 ],
 "metadata": {
  "kernelspec": {
   "display_name": "Python 3",
   "language": "python",
   "name": "python3"
  },
  "language_info": {
   "codemirror_mode": {
    "name": "ipython",
    "version": 3
   },
   "file_extension": ".py",
   "mimetype": "text/x-python",
   "name": "python",
   "nbconvert_exporter": "python",
   "pygments_lexer": "ipython3",
   "version": "3.5.4rc1"
  }
 },
 "nbformat": 4,
 "nbformat_minor": 2
}
