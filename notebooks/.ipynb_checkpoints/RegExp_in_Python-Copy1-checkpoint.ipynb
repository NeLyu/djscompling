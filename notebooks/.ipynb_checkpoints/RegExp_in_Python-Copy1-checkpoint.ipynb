{
 "cells": [
  {
   "cell_type": "code",
   "execution_count": 3,
   "metadata": {
    "collapsed": true
   },
   "outputs": [],
   "source": [
    "import re #импортируем модуль регулярных выражений"
   ]
  },
  {
   "cell_type": "code",
   "execution_count": 2,
   "metadata": {
    "collapsed": false
   },
   "outputs": [
    {
     "name": "stdout",
     "output_type": "stream",
     "text": [
      "['19.01.2018', '01.09.2017']\n"
     ]
    }
   ],
   "source": [
    "print(re.findall(r'\\d\\d\\.\\d\\d\\.\\d{4}', \n",
    "                 r'Эта строка написана 19.01.2018, а не 01.09.2017')) "
   ]
  },
  {
   "cell_type": "code",
   "execution_count": 3,
   "metadata": {
    "collapsed": false
   },
   "outputs": [
    {
     "name": "stdout",
     "output_type": "stream",
     "text": [
      "['aa', 'aa', 'aa', 'aa']\n"
     ]
    }
   ],
   "source": [
    "#re.findall() ищет непересекающиеся строки\n",
    "print(re.findall(r'aa', r'aaaaaaaa'))"
   ]
  },
  {
   "cell_type": "code",
   "execution_count": 4,
   "metadata": {
    "collapsed": false
   },
   "outputs": [
    {
     "name": "stdout",
     "output_type": "stream",
     "text": [
      "# 1\n",
      "YES\n",
      "# 2\n",
      "NO\n"
     ]
    }
   ],
   "source": [
    "#re.fullmatch() проверяет строку на полное совпадение\n",
    "match = re.fullmatch(r'\\d\\d\\D\\d\\d', r'12-12')\n",
    "print('# 1')\n",
    "print('YES' if match else 'NO') \n",
    "\n",
    "match = re.fullmatch(r'\\d\\d\\D\\d\\d', r'Т. 12-12') \n",
    "print('# 2')\n",
    "print('YES' if match else 'NO') "
   ]
  },
  {
   "cell_type": "code",
   "execution_count": 6,
   "metadata": {
    "collapsed": false
   },
   "outputs": [
    {
     "name": "stdout",
     "output_type": "stream",
     "text": [
      "None\n",
      "<_sre.SRE_Match object; span=(6, 11), match='world'>\n"
     ]
    }
   ],
   "source": [
    "#re.match() и re.search()\n",
    "#match() Определяет, начинается ли совпадение регулярного выражения с начала строки\n",
    "#search() Сканирует всю строку на наличие совпадений с регулярным выражением\n",
    "print(re.match('world', 'Hello world!'))\n",
    "print(re.search('world', 'Hello world! Hello world!'))"
   ]
  },
  {
   "cell_type": "code",
   "execution_count": null,
   "metadata": {
    "collapsed": false
   },
   "outputs": [],
   "source": [
    "#Доступ к индексам начала, конца и совпадению (start, end, group)\n",
    "mo = re.search('world', 'Hello world! Hello world!')"
   ]
  },
  {
   "cell_type": "code",
   "execution_count": null,
   "metadata": {
    "collapsed": false
   },
   "outputs": [],
   "source": [
    "#Сплит, замены\n",
    "text = 'Добрый вечер, сегодня у нас пара по комп.лингвистике!'\n",
    "chunks = re.split(r'разбиение по не-букве, не-цифре и не-подчеркиванию', text)\n",
    "print(chunks)"
   ]
  },
  {
   "cell_type": "code",
   "execution_count": 8,
   "metadata": {
    "collapsed": false
   },
   "outputs": [
    {
     "name": "stdout",
     "output_type": "stream",
     "text": [
      "Эта строка написана DD.MM.YYYY, а не DD.MM.YYYY\n"
     ]
    }
   ],
   "source": [
    "text = 'Эта строка написана 19.01.2018, а не 01.09.2017'\n",
    "s = re.sub(r'\\d\\d\\.\\d\\d\\.\\d{4}', r'DD.MM.YYYY', text)\n",
    "print(s)"
   ]
  },
  {
   "cell_type": "code",
   "execution_count": 1,
   "metadata": {
    "collapsed": true
   },
   "outputs": [],
   "source": [
    "# Задание 1\n",
    "# ввод \"ЖД 172 Мария Иванова ДЗ\"\n",
    "# вывод \"ДЗ от дата-журналистов\"\n",
    "# ввод \"ЖД 118 Мария Иванова ДЗ\"\n",
    "# вывод \"ДЗ от дата-журналистов\"\n",
    "# ввод \"КЛ 172 Мария Иванова ДЗ\"\n",
    "# вывод \"Другое письмо\"\n",
    "# ввод \"ЖД 172 Мария Иванова\"\n",
    "# вывод \"Другое письмо\"\n",
    "\n",
    "# Задание 2\n",
    "# Слово — это последовательность из букв (русских или английских), внутри которой могут быть дефисы.\n",
    "# На вход даётся текст, посчитайте, сколько в нём слов."
   ]
  },
  {
   "cell_type": "code",
   "execution_count": 4,
   "metadata": {
    "collapsed": false
   },
   "outputs": [
    {
     "name": "stdout",
     "output_type": "stream",
     "text": [
      "<class 'callable_iterator'>\n",
      "['19.01.2018', '01.09.2017']\n"
     ]
    }
   ],
   "source": [
    "#re.findall() и re.finditer()\n",
    "text = r'Эта строка написана 19.01.2018, а не 01.09.2017'\n",
    "print(type(re.finditer(r'\\d\\d\\.\\d\\d\\.\\d{4}', text)))\n",
    "print(re.findall(r'\\d\\d\\.\\d\\d\\.\\d{4}', text))"
   ]
  },
  {
   "cell_type": "code",
   "execution_count": null,
   "metadata": {
    "collapsed": true
   },
   "outputs": [],
   "source": [
    "#Задание\n",
    "# Вывести по очереди совпадения и их начальную позицию"
   ]
  },
  {
   "cell_type": "code",
   "execution_count": null,
   "metadata": {
    "collapsed": false
   },
   "outputs": [],
   "source": [
    "#Флаги\n",
    "print(re.findall(r'[уеыаоэяию]+', 'ОООО ааааа ррррр ЫЫЫЫ яяяя'))\n",
    "print(re.findall(r'[уеыаоэяию]+', 'ОООО ааааа ррррр ЫЫЫЫ яяяя', flags=re.IGNORECASE)) "
   ]
  },
  {
   "cell_type": "code",
   "execution_count": null,
   "metadata": {
    "collapsed": false
   },
   "outputs": [],
   "source": [
    "text = 'TO DO:\\n1. Wake up\\n2. Have some coffee\\n3. Write code\\n4. Go to bed'\n",
    "print(text)"
   ]
  },
  {
   "cell_type": "code",
   "execution_count": null,
   "metadata": {
    "collapsed": false
   },
   "outputs": [],
   "source": [
    "print(re.findall(r'^\\d.', text))\n",
    "print(re.findall(r'^\\d\\.', text, flags=re.MULTILINE))"
   ]
  },
  {
   "cell_type": "code",
   "execution_count": null,
   "metadata": {
    "collapsed": false
   },
   "outputs": [],
   "source": [
    "#Жадные и нежадные операторы\n",
    "text = 'На форуме были представлены компании \"Ромашка\", \"Василек\" и \"Чертополох\"'\n",
    "#жадный оператор +\n",
    "print('Найдено вхождений', len(re.findall(r'\\\".+\\\"', text)))\n",
    "print(re.findall(r'\\\".+\\\"', text))"
   ]
  },
  {
   "cell_type": "code",
   "execution_count": null,
   "metadata": {
    "collapsed": false
   },
   "outputs": [],
   "source": [
    "#нежадный оператор +\n",
    "print('Найдено вхождений', len(re.findall(r'\\\".+?\\\"', text)))\n",
    "print(re.findall(r'\\\".+?\\\"', text))"
   ]
  },
  {
   "cell_type": "code",
   "execution_count": null,
   "metadata": {
    "collapsed": false
   },
   "outputs": [],
   "source": [
    "#Группы и перечисления (?: ...)\n",
    "text = 'Это вам не хахахаха, и не хихихихи, и совсем не хохохохо!'\n",
    "print(re.findall(r'(?:[Хх][аио])+', text))"
   ]
  },
  {
   "cell_type": "code",
   "execution_count": null,
   "metadata": {
    "collapsed": false
   },
   "outputs": [],
   "source": [
    "text = 'Маша +7-916-123-67-09, Миша 8-929-888-00-55, Петя +7-911-11-888-22'\n",
    "print(re.findall('(?:\\+7|8)(?:-\\d{2,3}){4}', text))"
   ]
  },
  {
   "cell_type": "code",
   "execution_count": null,
   "metadata": {
    "collapsed": true
   },
   "outputs": [],
   "source": [
    "# Задание\n",
    "# Написать регулярное выражение, которое находит аббревиатуры"
   ]
  },
  {
   "cell_type": "code",
   "execution_count": null,
   "metadata": {
    "collapsed": false
   },
   "outputs": [],
   "source": [
    "#Группировка и нумерация групп\n",
    "mo = re.search(r'(a)(b)', 'ababababa')\n",
    "print(mo)\n",
    "print(mo.group(0))\n",
    "print(mo.group(1))\n",
    "print(mo.group(2))"
   ]
  },
  {
   "cell_type": "code",
   "execution_count": null,
   "metadata": {
    "collapsed": false
   },
   "outputs": [],
   "source": [
    "mo = re.search(r'((a)(b))', 'ababababa')\n",
    "print(mo)\n",
    "print(mo.group(0))\n",
    "print(mo.group(1))\n",
    "print(mo.group(2))\n",
    "print(mo.group(3))"
   ]
  },
  {
   "cell_type": "code",
   "execution_count": null,
   "metadata": {
    "collapsed": false
   },
   "outputs": [],
   "source": [
    "mo = re.search(r'((\\d)(\\d))((\\d)(\\d))', '123456789')\n",
    "print(mo)\n",
    "print(mo.group(0))\n",
    "print(mo.group(1))\n",
    "print(mo.group(2))\n",
    "print(mo.group(3))\n",
    "print(mo.group(4))"
   ]
  },
  {
   "cell_type": "code",
   "execution_count": null,
   "metadata": {
    "collapsed": false
   },
   "outputs": [],
   "source": [
    "#Замены\n",
    "text = \"We arrive on 03/25/2018. So you are welcome after 04/01/2018.\" \n",
    "print(re.sub(r'(\\d\\d)/(\\d\\d)/(\\d{4})', r'\\2.\\1.\\3', text)) "
   ]
  },
  {
   "cell_type": "code",
   "execution_count": null,
   "metadata": {
    "collapsed": true
   },
   "outputs": [],
   "source": [
    "# Задание\n",
    "# Сборка аббревиатур"
   ]
  },
  {
   "cell_type": "code",
   "execution_count": null,
   "metadata": {
    "collapsed": true
   },
   "outputs": [],
   "source": []
  }
 ],
 "metadata": {
  "kernelspec": {
   "display_name": "Python 3",
   "language": "python",
   "name": "python3"
  },
  "language_info": {
   "codemirror_mode": {
    "name": "ipython",
    "version": 3
   },
   "file_extension": ".py",
   "mimetype": "text/x-python",
   "name": "python",
   "nbconvert_exporter": "python",
   "pygments_lexer": "ipython3",
   "version": "3.5.4rc1"
  }
 },
 "nbformat": 4,
 "nbformat_minor": 2
}
