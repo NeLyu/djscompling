{
 "cells": [
  {
   "cell_type": "code",
   "execution_count": 1,
   "metadata": {
    "collapsed": true
   },
   "outputs": [],
   "source": [
    "import re #импортируем модуль регулярных выражений"
   ]
  },
  {
   "cell_type": "code",
   "execution_count": 2,
   "metadata": {
    "collapsed": false
   },
   "outputs": [
    {
     "name": "stdout",
     "output_type": "stream",
     "text": [
      "['19.01.2018', '01.09.2017']\n"
     ]
    }
   ],
   "source": [
    "print(re.findall(r'\\d\\d\\.\\d\\d\\.\\d{4}', \n",
    "                 r'Эта строка написана 19.01.2018, а не 01.09.2017')) "
   ]
  },
  {
   "cell_type": "code",
   "execution_count": 3,
   "metadata": {
    "collapsed": false
   },
   "outputs": [
    {
     "name": "stdout",
     "output_type": "stream",
     "text": [
      "['aa', 'aa', 'aa', 'aa']\n"
     ]
    }
   ],
   "source": [
    "#re.findall() ищет непересекающиеся строки\n",
    "print(re.findall(r'aa', r'aaaaaaaa'))"
   ]
  },
  {
   "cell_type": "code",
   "execution_count": 4,
   "metadata": {
    "collapsed": false
   },
   "outputs": [
    {
     "name": "stdout",
     "output_type": "stream",
     "text": [
      "# 1\n",
      "YES\n",
      "# 2\n",
      "NO\n"
     ]
    }
   ],
   "source": [
    "#re.fullmatch() проверяет строку на полное совпадение\n",
    "match = re.fullmatch(r'\\d\\d\\D\\d\\d', r'12-12')\n",
    "print('# 1')\n",
    "print('YES' if match else 'NO') \n",
    "\n",
    "match = re.fullmatch(r'\\d\\d\\D\\d\\d', r'Т. 12-12') \n",
    "print('# 2')\n",
    "print('YES' if match else 'NO') "
   ]
  },
  {
   "cell_type": "code",
   "execution_count": 5,
   "metadata": {
    "collapsed": false
   },
   "outputs": [
    {
     "name": "stdout",
     "output_type": "stream",
     "text": [
      "None\n",
      "<_sre.SRE_Match object; span=(0, 5), match='Hello'>\n",
      "<_sre.SRE_Match object; span=(6, 11), match='world'>\n",
      "None\n"
     ]
    }
   ],
   "source": [
    "#re.match() и re.search()\n",
    "#match() Определяет, начинается ли совпадение регулярного выражения с начала строки\n",
    "#search() Сканирует всю строку на наличие совпадений с регулярным выражением\n",
    "print(re.match('world', 'Hello world!'))\n",
    "print(re.match('Hello', 'Hello world!'))\n",
    "print(re.search('world', 'Hello world! Hello world!'))\n",
    "print(re.search('old', 'Hello world! Hello world!'))"
   ]
  },
  {
   "cell_type": "code",
   "execution_count": 9,
   "metadata": {
    "collapsed": false
   },
   "outputs": [
    {
     "name": "stdout",
     "output_type": "stream",
     "text": [
      "<_sre.SRE_Match object; span=(6, 11), match='world'>\n",
      "6\n",
      "11\n",
      "world\n"
     ]
    }
   ],
   "source": [
    "#Доступ к индексам начала, конца и совпадению (start, end, group)\n",
    "mo = re.search('world', 'Hello world! Hello world!')\n",
    "print(mo)\n",
    "print(mo.start()) #позиция (индекс) символа начала совпадения\n",
    "print(mo.end()) #позиция (индекс) символа конца совпадения\n",
    "print(mo.group()) #само совпадение"
   ]
  },
  {
   "cell_type": "code",
   "execution_count": 11,
   "metadata": {
    "collapsed": false
   },
   "outputs": [
    {
     "name": "stdout",
     "output_type": "stream",
     "text": [
      "['Добрый', 'вечер', '', 'сегодня', 'у', 'нас', 'пара', 'по', 'комп', 'лингвистике', '']\n"
     ]
    }
   ],
   "source": [
    "#Сплит, замены\n",
    "text = 'Добрый вечер, сегодня у нас пара по комп.лингвистике!'\n",
    "chunks = re.split(r'\\W', text) #разбиение по не-букве, не-цифре и не-подчеркиванию\n",
    "print(chunks)"
   ]
  },
  {
   "cell_type": "code",
   "execution_count": 14,
   "metadata": {
    "collapsed": false
   },
   "outputs": [
    {
     "name": "stdout",
     "output_type": "stream",
     "text": [
      "Было: Эта строка написана 19.01.2018, а не 01.09.2017\n",
      "Стало: Эта строка написана DD.MM.YYYY, а не DD.MM.YYYY\n"
     ]
    }
   ],
   "source": [
    "text = 'Эта строка написана 19.01.2018, а не 01.09.2017'\n",
    "#замена соответствия регулярного выражения на какую-нибудь строку, в данному случае на DD.MM.YY\n",
    "s = re.sub(r'\\d\\d\\.\\d\\d\\.\\d{4}', r'DD.MM.YYYY', text) \n",
    "print('Было:', text)\n",
    "print('Стало:', s)"
   ]
  },
  {
   "cell_type": "code",
   "execution_count": 16,
   "metadata": {
    "collapsed": true
   },
   "outputs": [],
   "source": [
    "# Задание 1\n",
    "# ввод \"ЖД 172 Мария Иванова ДЗ\"\n",
    "# вывод \"ДЗ от дата-журналистов\"\n",
    "# ввод \"ЖД 118 Мария Иванова ДЗ\"\n",
    "# вывод \"ДЗ от дата-журналистов\"\n",
    "# ввод \"КЛ 172 Мария Иванова ДЗ\"\n",
    "# вывод \"Другое письмо\"\n",
    "# ввод \"ЖД 172 Мария Иванова\"\n",
    "# вывод \"Другое письмо\"\n",
    "\n",
    "# Задание 2\n",
    "# Слово — это последовательность из букв (русских или английских), внутри которой могут быть дефисы.\n",
    "# На вход даётся текст, посчитайте, сколько в нём слов."
   ]
  },
  {
   "cell_type": "code",
   "execution_count": 18,
   "metadata": {
    "collapsed": false
   },
   "outputs": [
    {
     "name": "stdout",
     "output_type": "stream",
     "text": [
      "ЖД 172 Мария Иванова Д\n",
      "Другое письмо\n"
     ]
    }
   ],
   "source": [
    "#Задание 1\n",
    "string = input()\n",
    "if re.fullmatch(r'ЖД \\d{3} [А-ЯЁ][а-яё]+ [А-ЯЁ][а-яё]+ ДЗ', string):\n",
    "    print('ДЗ от дата-журналистов')\n",
    "else:\n",
    "    print('Другое письмо')"
   ]
  },
  {
   "cell_type": "code",
   "execution_count": 19,
   "metadata": {
    "collapsed": false
   },
   "outputs": [
    {
     "name": "stdout",
     "output_type": "stream",
     "text": [
      "Сине-зеленый чемодан и два красно-бело-желтых рюкзака\n",
      "6\n"
     ]
    }
   ],
   "source": [
    "#Задание 2\n",
    "string = input()\n",
    "print(len(re.findall(r'[А-Яа-яA-Za-z-]+', string)))"
   ]
  },
  {
   "cell_type": "code",
   "execution_count": 20,
   "metadata": {
    "collapsed": false
   },
   "outputs": [
    {
     "name": "stdout",
     "output_type": "stream",
     "text": [
      "<class 'callable_iterator'>\n",
      "['19.01.2018', '01.09.2017']\n"
     ]
    }
   ],
   "source": [
    "#re.findall() и re.finditer()\n",
    "text = r'Эта строка написана 19.01.2018, а не 01.09.2017'\n",
    "print(type(re.finditer(r'\\d\\d\\.\\d\\d\\.\\d{4}', text)))\n",
    "print(re.findall(r'\\d\\d\\.\\d\\d\\.\\d{4}', text))"
   ]
  },
  {
   "cell_type": "code",
   "execution_count": 22,
   "metadata": {
    "collapsed": false
   },
   "outputs": [
    {
     "name": "stdout",
     "output_type": "stream",
     "text": [
      "совпадение: 2\n",
      "начальная позиция 9\n",
      "совпадение: 15\n",
      "начальная позиция 17\n",
      "совпадение: 100\n",
      "начальная позиция 30\n"
     ]
    }
   ],
   "source": [
    "#Задание\n",
    "# Вывести по очереди совпадения и их начальную позицию\n",
    "for match in re.finditer(r'\\d+', r'Принесли 2 кофе, 15 эклеров и 100г сахара'):\n",
    "    print('совпадение:', match.group())\n",
    "    print('начальная позиция', match.start())"
   ]
  },
  {
   "cell_type": "code",
   "execution_count": 23,
   "metadata": {
    "collapsed": false
   },
   "outputs": [
    {
     "name": "stdout",
     "output_type": "stream",
     "text": [
      "['ааааа', 'яяяя']\n",
      "['ОООО', 'ааааа', 'ЫЫЫЫ', 'яяяя']\n"
     ]
    }
   ],
   "source": [
    "#Флаги\n",
    "print(re.findall(r'[уеыаоэяию]+', 'ОООО ааааа ррррр ЫЫЫЫ яяяя'))\n",
    "print(re.findall(r'[уеыаоэяию]+', 'ОООО ааааа ррррр ЫЫЫЫ яяяя', flags=re.IGNORECASE)) "
   ]
  },
  {
   "cell_type": "code",
   "execution_count": 24,
   "metadata": {
    "collapsed": false
   },
   "outputs": [
    {
     "name": "stdout",
     "output_type": "stream",
     "text": [
      "TO DO:\n",
      "1. Wake up\n",
      "2. Have some coffee\n",
      "3. Write code\n",
      "4. Go to bed\n"
     ]
    }
   ],
   "source": [
    "text = 'TO DO:\\n1. Wake up\\n2. Have some coffee\\n3. Write code\\n4. Go to bed'\n",
    "print(text)"
   ]
  },
  {
   "cell_type": "code",
   "execution_count": 25,
   "metadata": {
    "collapsed": false
   },
   "outputs": [
    {
     "name": "stdout",
     "output_type": "stream",
     "text": [
      "[]\n",
      "['1.', '2.', '3.', '4.']\n"
     ]
    }
   ],
   "source": [
    "print(re.findall(r'^\\d.', text))\n",
    "print(re.findall(r'^\\d\\.', text, flags=re.MULTILINE))"
   ]
  },
  {
   "cell_type": "code",
   "execution_count": 26,
   "metadata": {
    "collapsed": false
   },
   "outputs": [
    {
     "name": "stdout",
     "output_type": "stream",
     "text": [
      "Найдено вхождений 1\n",
      "['\"Ромашка\", \"Василек\" и \"Чертополох\"']\n"
     ]
    }
   ],
   "source": [
    "#Жадные и нежадные операторы\n",
    "text = 'На форуме были представлены компании \"Ромашка\", \"Василек\" и \"Чертополох\"'\n",
    "#жадный оператор +\n",
    "print('Найдено вхождений', len(re.findall(r'\\\".+\\\"', text)))\n",
    "print(re.findall(r'\\\".+\\\"', text))"
   ]
  },
  {
   "cell_type": "code",
   "execution_count": 27,
   "metadata": {
    "collapsed": false
   },
   "outputs": [
    {
     "name": "stdout",
     "output_type": "stream",
     "text": [
      "Найдено вхождений 3\n",
      "['\"Ромашка\"', '\"Василек\"', '\"Чертополох\"']\n"
     ]
    }
   ],
   "source": [
    "#нежадный оператор +\n",
    "print('Найдено вхождений', len(re.findall(r'\\\".+?\\\"', text)))\n",
    "print(re.findall(r'\\\".+?\\\"', text))"
   ]
  },
  {
   "cell_type": "code",
   "execution_count": 28,
   "metadata": {
    "collapsed": false
   },
   "outputs": [
    {
     "name": "stdout",
     "output_type": "stream",
     "text": [
      "['хахахаха', 'хихихихи', 'хохохохо']\n"
     ]
    }
   ],
   "source": [
    "#Группы и перечисления (?: ...)\n",
    "text = 'Это вам не хахахаха, и не хихихихи, и совсем не хохохохо!'\n",
    "print(re.findall(r'(?:[Хх][аио])+', text))"
   ]
  },
  {
   "cell_type": "code",
   "execution_count": 29,
   "metadata": {
    "collapsed": false
   },
   "outputs": [
    {
     "name": "stdout",
     "output_type": "stream",
     "text": [
      "['+7-916-123-67-09', '8-929-888-00-55', '+7-911-11-888-22']\n"
     ]
    }
   ],
   "source": [
    "text = 'Маша +7-916-123-67-09, Миша 8-929-888-00-55, Петя +7-911-11-888-22'\n",
    "print(re.findall('(?:\\+7|8)(?:-\\d{2,3}){4}', text))"
   ]
  },
  {
   "cell_type": "code",
   "execution_count": 31,
   "metadata": {
    "collapsed": false
   },
   "outputs": [
    {
     "name": "stdout",
     "output_type": "stream",
     "text": [
      "<_sre.SRE_Match object; span=(0, 2), match='ab'>\n",
      "ab\n",
      "a\n",
      "b\n"
     ]
    }
   ],
   "source": [
    "#Группировка и нумерация групп\n",
    "mo = re.search(r'(a)(b)', 'ababababa')\n",
    "print(mo)\n",
    "print(mo.group(0)) # все совпадение\n",
    "print(mo.group(1)) # 1я группа\n",
    "print(mo.group(2)) # 2я группа"
   ]
  },
  {
   "cell_type": "code",
   "execution_count": 32,
   "metadata": {
    "collapsed": false
   },
   "outputs": [
    {
     "name": "stdout",
     "output_type": "stream",
     "text": [
      "<_sre.SRE_Match object; span=(0, 2), match='ab'>\n",
      "ab\n",
      "ab\n",
      "a\n",
      "b\n"
     ]
    }
   ],
   "source": [
    "mo = re.search(r'((a)(b))', 'ababababa')\n",
    "print(mo)\n",
    "print(mo.group(0)) # все совпадение\n",
    "print(mo.group(1)) # 1я группа\n",
    "print(mo.group(2)) # 2я группа\n",
    "print(mo.group(3)) # 3я группа"
   ]
  },
  {
   "cell_type": "code",
   "execution_count": 33,
   "metadata": {
    "collapsed": false
   },
   "outputs": [
    {
     "name": "stdout",
     "output_type": "stream",
     "text": [
      "<_sre.SRE_Match object; span=(0, 4), match='1234'>\n",
      "1234\n",
      "12\n",
      "1\n",
      "2\n",
      "34\n"
     ]
    }
   ],
   "source": [
    "mo = re.search(r'((\\d)(\\d))((\\d)(\\d))', '123456789')\n",
    "print(mo)\n",
    "print(mo.group(0))\n",
    "print(mo.group(1))\n",
    "print(mo.group(2))\n",
    "print(mo.group(3))\n",
    "print(mo.group(4))"
   ]
  },
  {
   "cell_type": "code",
   "execution_count": 39,
   "metadata": {
    "collapsed": false
   },
   "outputs": [
    {
     "name": "stdout",
     "output_type": "stream",
     "text": [
      "Было: His name was John Smith and her name was Alice Granger\n",
      "Стало: His name was Smith John and her name was Granger Alice\n"
     ]
    }
   ],
   "source": [
    "#Замены и отсылки к группам\n",
    "text = \"His name was John Smith and her name was Alice Granger\"\n",
    "print('Было:', text)\n",
    "print('Стало:', re.sub(r'([A-Z][a-z]+) ([A-Z][a-z]+)', r'\\2 \\1', text)) # не забываем про пробел"
   ]
  },
  {
   "cell_type": "code",
   "execution_count": 41,
   "metadata": {
    "collapsed": false
   },
   "outputs": [
    {
     "name": "stdout",
     "output_type": "stream",
     "text": [
      "We arrive on 25.03.2018. So you are welcome after 01.04.2018.\n"
     ]
    }
   ],
   "source": [
    "text = \"We arrive on 03/25/2018. So you are welcome after 04/01/2018.\" \n",
    "#меняем местами месяца и число, заменем слэши на точки\n",
    "print(re.sub(r'(\\d\\d)/(\\d\\d)/(\\d{4})', r'\\2.\\1.\\3', text)) "
   ]
  },
  {
   "cell_type": "code",
   "execution_count": null,
   "metadata": {
    "collapsed": true
   },
   "outputs": [],
   "source": []
  }
 ],
 "metadata": {
  "kernelspec": {
   "display_name": "Python 3",
   "language": "python",
   "name": "python3"
  },
  "language_info": {
   "codemirror_mode": {
    "name": "ipython",
    "version": 3
   },
   "file_extension": ".py",
   "mimetype": "text/x-python",
   "name": "python",
   "nbconvert_exporter": "python",
   "pygments_lexer": "ipython3",
   "version": "3.5.4rc1"
  }
 },
 "nbformat": 4,
 "nbformat_minor": 2
}
